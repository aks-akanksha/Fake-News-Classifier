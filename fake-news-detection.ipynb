{
 "cells": [
  {
   "cell_type": "markdown",
   "id": "8c280b75",
   "metadata": {
    "papermill": {
     "duration": 0.019613,
     "end_time": "2022-07-01T02:15:33.483118",
     "exception": false,
     "start_time": "2022-07-01T02:15:33.463505",
     "status": "completed"
    },
    "tags": []
   },
   "source": [
    "# **FAKE NEWS DETECTION**"
   ]
  },
  {
   "cell_type": "markdown",
   "id": "6c3c50fc",
   "metadata": {
    "papermill": {
     "duration": 0.018878,
     "end_time": "2022-07-01T02:15:33.520703",
     "exception": false,
     "start_time": "2022-07-01T02:15:33.501825",
     "status": "completed"
    },
    "tags": []
   },
   "source": [
    "“Fake news,” or fabricated information that is patently false, has become a major phenomenon in the context of Internet-based media. It has received serious attention in a variety of fields, with scholars investigating the antecedents, characteristics, and consequences of its creation and dissemination. As the scourge of “fake news” continues to plague our information environment, attention has turned toward devising automated solutions for detecting problematic online content.\n",
    "\n",
    "This notebook aims to classify fake news from the real news using recurrent neural networks (to be specific, LSTMs).\n",
    "\n",
    "The results are:\n",
    "\n",
    "Accuracy on testing set: 0.9941202672605791\n",
    "\n",
    "Precision on testing set: 0.9932665745856354\n",
    "\n",
    "Recall on testing set: 0.9953287197231834\n",
    "\n",
    "I shall explain the steps involved as we parse through this notebook."
   ]
  },
  {
   "cell_type": "markdown",
   "id": "94fd171b",
   "metadata": {
    "papermill": {
     "duration": 0.01808,
     "end_time": "2022-07-01T02:15:33.556956",
     "exception": false,
     "start_time": "2022-07-01T02:15:33.538876",
     "status": "completed"
    },
    "tags": []
   },
   "source": [
    "# IMPORTING LIBRARIES"
   ]
  },
  {
   "cell_type": "code",
   "execution_count": 1,
   "id": "56918d1e",
   "metadata": {
    "_cell_guid": "a9cbf433-e27b-4bb1-af88-8272b5a51f88",
    "_uuid": "18b5ab84-47a1-43cb-8ba9-5aa4e08a9c16",
    "collapsed": false,
    "execution": {
     "iopub.execute_input": "2022-07-01T02:15:33.605394Z",
     "iopub.status.busy": "2022-07-01T02:15:33.604698Z",
     "iopub.status.idle": "2022-07-01T02:15:33.613361Z",
     "shell.execute_reply": "2022-07-01T02:15:33.614062Z",
     "shell.execute_reply.started": "2022-07-01T02:07:46.215941Z"
    },
    "jupyter": {
     "outputs_hidden": false
    },
    "papermill": {
     "duration": 0.039316,
     "end_time": "2022-07-01T02:15:33.614369",
     "exception": false,
     "start_time": "2022-07-01T02:15:33.575053",
     "status": "completed"
    },
    "tags": []
   },
   "outputs": [
    {
     "name": "stdout",
     "output_type": "stream",
     "text": [
      "/kaggle/input/fake-and-real-news-dataset/True.csv\n",
      "/kaggle/input/fake-and-real-news-dataset/Fake.csv\n"
     ]
    }
   ],
   "source": [
    "# This Python 3 environment comes with many helpful analytics libraries installed\n",
    "# It is defined by the kaggle/python Docker image: https://github.com/kaggle/docker-python\n",
    "# For example, here's several helpful packages to load\n",
    "\n",
    "import numpy as np # linear algebra\n",
    "import pandas as pd # data processing, CSV file I/O (e.g. pd.read_csv)\n",
    "\n",
    "# Input data files are available in the read-only \"../input/\" directory\n",
    "# For example, running this (by clicking run or pressing Shift+Enter) will list all files under the input directory\n",
    "\n",
    "import os\n",
    "for dirname, _, filenames in os.walk('/kaggle/input'):\n",
    "    for filename in filenames:\n",
    "        print(os.path.join(dirname, filename))\n",
    "\n",
    "# You can write up to 20GB to the current directory (/kaggle/working/) that gets preserved as output when you create a version using \"Save & Run All\" \n",
    "# You can also write temporary files to /kaggle/temp/, but they won't be saved outside of the current session"
   ]
  },
  {
   "cell_type": "code",
   "execution_count": 2,
   "id": "aa2f0288",
   "metadata": {
    "_cell_guid": "d4c24af3-9e38-456f-ae84-3e23f9d5879e",
    "_uuid": "b2fd7830-6803-462f-ae0b-89fbd2d8cc86",
    "collapsed": false,
    "execution": {
     "iopub.execute_input": "2022-07-01T02:15:33.659385Z",
     "iopub.status.busy": "2022-07-01T02:15:33.658886Z",
     "iopub.status.idle": "2022-07-01T02:15:40.384312Z",
     "shell.execute_reply": "2022-07-01T02:15:40.384806Z",
     "shell.execute_reply.started": "2022-07-01T02:07:46.252294Z"
    },
    "jupyter": {
     "outputs_hidden": false
    },
    "papermill": {
     "duration": 6.750315,
     "end_time": "2022-07-01T02:15:40.384979",
     "exception": false,
     "start_time": "2022-07-01T02:15:33.634664",
     "status": "completed"
    },
    "tags": []
   },
   "outputs": [],
   "source": [
    "#For Visualization\n",
    "from matplotlib import pyplot as plt\n",
    "import seaborn as sns\n",
    "\n",
    "#Libraries for text preprocessing\n",
    "import re\n",
    "import nltk\n",
    "from nltk.corpus import stopwords\n",
    "from nltk.tokenize import word_tokenize \n",
    "from nltk.stem.porter import PorterStemmer\n",
    "from nltk.stem import WordNetLemmatizer\n",
    "from tensorflow.keras.preprocessing.text import Tokenizer\n",
    "from tensorflow.keras.preprocessing.sequence import pad_sequences\n",
    "from sklearn.model_selection import train_test_split\n",
    "\n",
    "#Importing Tensorflow for model creation\n",
    "import tensorflow as tf\n",
    "\n",
    "#Libraries that check the accuracy of the model over test set\n",
    "from sklearn.metrics import confusion_matrix, accuracy_score, precision_score, recall_score"
   ]
  },
  {
   "cell_type": "markdown",
   "id": "4ad2259d",
   "metadata": {
    "papermill": {
     "duration": 0.019972,
     "end_time": "2022-07-01T02:15:40.424221",
     "exception": false,
     "start_time": "2022-07-01T02:15:40.404249",
     "status": "completed"
    },
    "tags": []
   },
   "source": [
    "# IMPORTING DATASET"
   ]
  },
  {
   "cell_type": "code",
   "execution_count": 3,
   "id": "211de152",
   "metadata": {
    "_cell_guid": "054f8635-2932-4534-8240-8fd2c49c976a",
    "_uuid": "936fef6d-8c86-40bd-a407-461a2d64086c",
    "collapsed": false,
    "execution": {
     "iopub.execute_input": "2022-07-01T02:15:40.468073Z",
     "iopub.status.busy": "2022-07-01T02:15:40.467441Z",
     "iopub.status.idle": "2022-07-01T02:15:42.630829Z",
     "shell.execute_reply": "2022-07-01T02:15:42.630310Z",
     "shell.execute_reply.started": "2022-07-01T02:07:52.864726Z"
    },
    "jupyter": {
     "outputs_hidden": false
    },
    "papermill": {
     "duration": 2.187648,
     "end_time": "2022-07-01T02:15:42.630966",
     "exception": false,
     "start_time": "2022-07-01T02:15:40.443318",
     "status": "completed"
    },
    "tags": []
   },
   "outputs": [],
   "source": [
    "fake = pd.read_csv(\"../input/fake-and-real-news-dataset/Fake.csv\")\n",
    "true = pd.read_csv(\"../input/fake-and-real-news-dataset/True.csv\")"
   ]
  },
  {
   "cell_type": "code",
   "execution_count": 4,
   "id": "a5246ef6",
   "metadata": {
    "_cell_guid": "f7f83397-9321-4325-b2be-a9ca47b36b5e",
    "_uuid": "da00f572-3d49-4326-a400-7fad8d56858f",
    "collapsed": false,
    "execution": {
     "iopub.execute_input": "2022-07-01T02:15:42.681517Z",
     "iopub.status.busy": "2022-07-01T02:15:42.679941Z",
     "iopub.status.idle": "2022-07-01T02:15:42.682108Z",
     "shell.execute_reply": "2022-07-01T02:15:42.682530Z",
     "shell.execute_reply.started": "2022-07-01T02:07:55.065212Z"
    },
    "jupyter": {
     "outputs_hidden": false
    },
    "papermill": {
     "duration": 0.031806,
     "end_time": "2022-07-01T02:15:42.682678",
     "exception": false,
     "start_time": "2022-07-01T02:15:42.650872",
     "status": "completed"
    },
    "tags": []
   },
   "outputs": [],
   "source": [
    "# Labelling data by adding the category column\n",
    "\n",
    "fake[\"category\"] = 1\n",
    "true[\"category\"] = 0"
   ]
  },
  {
   "cell_type": "code",
   "execution_count": 5,
   "id": "62ed6a4d",
   "metadata": {
    "_cell_guid": "e2b3654e-9a35-4567-8c5a-180832a26818",
    "_uuid": "f96dd57b-9703-4482-82fd-0c5ad7e093ec",
    "collapsed": false,
    "execution": {
     "iopub.execute_input": "2022-07-01T02:15:42.725009Z",
     "iopub.status.busy": "2022-07-01T02:15:42.724257Z",
     "iopub.status.idle": "2022-07-01T02:15:42.731383Z",
     "shell.execute_reply": "2022-07-01T02:15:42.730996Z",
     "shell.execute_reply.started": "2022-07-01T02:07:55.077399Z"
    },
    "jupyter": {
     "outputs_hidden": false
    },
    "papermill": {
     "duration": 0.029834,
     "end_time": "2022-07-01T02:15:42.731518",
     "exception": false,
     "start_time": "2022-07-01T02:15:42.701684",
     "status": "completed"
    },
    "tags": []
   },
   "outputs": [],
   "source": [
    "#Combining the two datasets\n",
    "\n",
    "dataset = pd.concat([fake, true])"
   ]
  },
  {
   "cell_type": "code",
   "execution_count": 6,
   "id": "2a3cd0e4",
   "metadata": {
    "_cell_guid": "782c5e3e-7744-4148-8be6-5a8a21395541",
    "_uuid": "02c7e36f-4e82-4384-ae63-9ebb394656dd",
    "collapsed": false,
    "execution": {
     "iopub.execute_input": "2022-07-01T02:15:42.773890Z",
     "iopub.status.busy": "2022-07-01T02:15:42.772738Z",
     "iopub.status.idle": "2022-07-01T02:15:42.959035Z",
     "shell.execute_reply": "2022-07-01T02:15:42.959878Z",
     "shell.execute_reply.started": "2022-07-01T02:07:55.093197Z"
    },
    "jupyter": {
     "outputs_hidden": false
    },
    "papermill": {
     "duration": 0.209414,
     "end_time": "2022-07-01T02:15:42.960072",
     "exception": false,
     "start_time": "2022-07-01T02:15:42.750658",
     "status": "completed"
    },
    "tags": []
   },
   "outputs": [
    {
     "name": "stdout",
     "output_type": "stream",
     "text": [
      "AxesSubplot(0.125,0.125;0.775x0.755)\n"
     ]
    },
    {
     "name": "stderr",
     "output_type": "stream",
     "text": [
      "/opt/conda/lib/python3.7/site-packages/seaborn/_decorators.py:43: FutureWarning: Pass the following variable as a keyword arg: x. From version 0.12, the only valid positional argument will be `data`, and passing other arguments without an explicit keyword will result in an error or misinterpretation.\n",
      "  FutureWarning\n"
     ]
    },
    {
     "data": {
      "image/png": "[encoded data removed]",
      "text/plain": [
       "<Figure size 432x288 with 1 Axes>"
      ]
     },
     "metadata": {
      "needs_background": "light"
     },
     "output_type": "display_data"
    }
   ],
   "source": [
    "# Count of news in each category\n",
    "\n",
    "print(sns.countplot(dataset.category))"
   ]
  },
  {
   "cell_type": "code",
   "execution_count": 7,
   "id": "8e6fa9c2",
   "metadata": {
    "_cell_guid": "840c8204-bc60-42aa-90da-01dc11264213",
    "_uuid": "94751544-0cc9-4a93-b571-08787d650c66",
    "collapsed": false,
    "execution": {
     "iopub.execute_input": "2022-07-01T02:15:43.021151Z",
     "iopub.status.busy": "2022-07-01T02:15:43.004254Z",
     "iopub.status.idle": "2022-07-01T02:15:43.323906Z",
     "shell.execute_reply": "2022-07-01T02:15:43.324607Z",
     "shell.execute_reply.started": "2022-07-01T02:07:55.284744Z"
    },
    "jupyter": {
     "outputs_hidden": false
    },
    "papermill": {
     "duration": 0.343178,
     "end_time": "2022-07-01T02:15:43.324761",
     "exception": false,
     "start_time": "2022-07-01T02:15:42.981583",
     "status": "completed"
    },
    "tags": []
   },
   "outputs": [
    {
     "data": {
      "image/png": "[encoded data removed]",
      "text/plain": [
       "<Figure size 576x360 with 1 Axes>"
      ]
     },
     "metadata": {
      "needs_background": "light"
     },
     "output_type": "display_data"
    }
   ],
   "source": [
    "# Visualizing the count of each type of news based on the subject\n",
    "\n",
    "f = plt.figure()\n",
    "plt.title(\"Count of news categories (both fake and real)\")\n",
    "f.set_figwidth(8)\n",
    "f.set_figheight(5)\n",
    "plt.xticks(rotation = 90)\n",
    "sns.countplot(x = \"subject\", hue = \"category\", data =  dataset)\n",
    "plt.show()"
   ]
  },
  {
   "cell_type": "markdown",
   "id": "a37b0e88",
   "metadata": {
    "papermill": {
     "duration": 0.032593,
     "end_time": "2022-07-01T02:15:43.378514",
     "exception": false,
     "start_time": "2022-07-01T02:15:43.345921",
     "status": "completed"
    },
    "tags": []
   },
   "source": [
    "# TEXT PREPROCESSING"
   ]
  },
  {
   "cell_type": "code",
   "execution_count": 8,
   "id": "42e16fd9",
   "metadata": {
    "_cell_guid": "0063f6bd-a8ee-4795-ae31-6405557d6dfd",
    "_uuid": "c6f162ca-1502-46c1-b71d-4a90c6555137",
    "collapsed": false,
    "execution": {
     "iopub.execute_input": "2022-07-01T02:15:43.519391Z",
     "iopub.status.busy": "2022-07-01T02:15:43.518431Z",
     "iopub.status.idle": "2022-07-01T02:15:43.659696Z",
     "shell.execute_reply": "2022-07-01T02:15:43.659190Z",
     "shell.execute_reply.started": "2022-07-01T02:07:55.584249Z"
    },
    "jupyter": {
     "outputs_hidden": false
    },
    "papermill": {
     "duration": 0.260306,
     "end_time": "2022-07-01T02:15:43.659836",
     "exception": false,
     "start_time": "2022-07-01T02:15:43.399530",
     "status": "completed"
    },
    "tags": []
   },
   "outputs": [],
   "source": [
    "# Combining the title of the news with it's text\n",
    "\n",
    "dataset[\"text\"] = dataset[\"text\"]+\" \"+dataset[\"title\"]"
   ]
  },
  {
   "cell_type": "code",
   "execution_count": 9,
   "id": "de77a53a",
   "metadata": {
    "_cell_guid": "7e1deb1d-0fd0-48c0-aedb-23d5202719c0",
    "_uuid": "0ceec513-53b5-4baf-a873-5705a708b354",
    "collapsed": false,
    "execution": {
     "iopub.execute_input": "2022-07-01T02:15:43.713067Z",
     "iopub.status.busy": "2022-07-01T02:15:43.711477Z",
     "iopub.status.idle": "2022-07-01T02:15:43.713681Z",
     "shell.execute_reply": "2022-07-01T02:15:43.714080Z",
     "shell.execute_reply.started": "2022-07-01T02:07:55.822821Z"
    },
    "jupyter": {
     "outputs_hidden": false
    },
    "papermill": {
     "duration": 0.032936,
     "end_time": "2022-07-01T02:15:43.714205",
     "exception": false,
     "start_time": "2022-07-01T02:15:43.681269",
     "status": "completed"
    },
    "tags": []
   },
   "outputs": [],
   "source": [
    "# Drop the unnecessary columns, title(already added to the text column), subject and date\n",
    "\n",
    "dataset.drop([\"title\", \"subject\", \"date\"], axis = 1, inplace = True)"
   ]
  },
  {
   "cell_type": "code",
   "execution_count": 10,
   "id": "be73bf9f",
   "metadata": {
    "_cell_guid": "584abb90-debe-4e91-a0c4-cb6086e1b701",
    "_uuid": "137fd90d-010c-47ab-aca2-cadf984cd8cc",
    "collapsed": false,
    "execution": {
     "iopub.execute_input": "2022-07-01T02:15:43.765461Z",
     "iopub.status.busy": "2022-07-01T02:15:43.763889Z",
     "iopub.status.idle": "2022-07-01T02:15:43.766052Z",
     "shell.execute_reply": "2022-07-01T02:15:43.766478Z",
     "shell.execute_reply.started": "2022-07-01T02:07:55.833442Z"
    },
    "jupyter": {
     "outputs_hidden": false
    },
    "papermill": {
     "duration": 0.031452,
     "end_time": "2022-07-01T02:15:43.766612",
     "exception": false,
     "start_time": "2022-07-01T02:15:43.735160",
     "status": "completed"
    },
    "tags": []
   },
   "outputs": [],
   "source": [
    "#Defining functions to clean text data\n",
    "\n",
    "def remove_punctuation(text):  #Removing any kind of punctuation present in the data\n",
    "    return re.sub(r'[^\\w\\s]','', str(text))\n",
    "                  \n",
    "def remove_urls(text):  #Removing urls from the data\n",
    "    return re.sub(r\"http\\S+\", \" \", str(text))\n",
    "                  \n",
    "def remove_stopwords(text):  #Removing stopwords(eg. this, that, am, be etc)\n",
    "    stop = stopwords.words(\"english\")\n",
    "    final_text = []\n",
    "    for i in str(text).split():\n",
    "        if i.strip() not in stop:\n",
    "            final_text.append(i.strip())\n",
    "    return \" \".join(final_text)\n",
    "                  \n",
    "def tokenize(text):  \n",
    "    tokens = re.split('\\W+',text) #W+ means that either a word character (A-Z) or a dash(-) can go there.\n",
    "    return tokens\n",
    "\n",
    "def tokenize_words(text):  #Converting all the text to lower case\n",
    "    return word_tokenize(text.lower())\n",
    "\n",
    "                                  \n",
    "def stemming(text):  #Converting the words into their stem form\n",
    "    porter_stemmer = PorterStemmer()\n",
    "    return porter_stemmer.stem(str(text))\n",
    "                  \n",
    "def lemmatization(text):  #Applying Lemaatization i.e., converting words into their lemma\n",
    "    wordnet_lemmatizer = WordNetLemmatizer()\n",
    "    return wordnet_lemmatizer.lemmatize(str(text))"
   ]
  },
  {
   "cell_type": "code",
   "execution_count": 11,
   "id": "7feeee8c",
   "metadata": {
    "_cell_guid": "77e816f1-e86d-4a35-a548-5b205062f0c3",
    "_uuid": "53f4aed7-ad44-4ecc-858e-93e4f2bc8868",
    "collapsed": false,
    "execution": {
     "iopub.execute_input": "2022-07-01T02:15:43.813459Z",
     "iopub.status.busy": "2022-07-01T02:15:43.812540Z",
     "iopub.status.idle": "2022-07-01T02:18:25.428546Z",
     "shell.execute_reply": "2022-07-01T02:18:25.427972Z",
     "shell.execute_reply.started": "2022-07-01T02:07:55.844866Z"
    },
    "jupyter": {
     "outputs_hidden": false
    },
    "papermill": {
     "duration": 161.640924,
     "end_time": "2022-07-01T02:18:25.428707",
     "exception": false,
     "start_time": "2022-07-01T02:15:43.787783",
     "status": "completed"
    },
    "tags": []
   },
   "outputs": [],
   "source": [
    "def clean_text(text):\n",
    "    text = remove_punctuation(text)\n",
    "    text = remove_urls(text)\n",
    "    text = remove_stopwords(text)\n",
    "    text = tokenize_words(text)\n",
    "    text = stemming(text)\n",
    "    return lemmatization(text)\n",
    "\n",
    "dataset['text'] = dataset['text'].apply(lambda x: clean_text(x))"
   ]
  },
  {
   "cell_type": "code",
   "execution_count": 12,
   "id": "b0a6465b",
   "metadata": {
    "execution": {
     "iopub.execute_input": "2022-07-01T02:18:25.477717Z",
     "iopub.status.busy": "2022-07-01T02:18:25.472799Z",
     "iopub.status.idle": "2022-07-01T02:18:25.486837Z",
     "shell.execute_reply": "2022-07-01T02:18:25.487253Z",
     "shell.execute_reply.started": "2022-07-01T02:10:35.620852Z"
    },
    "papermill": {
     "duration": 0.037638,
     "end_time": "2022-07-01T02:18:25.487410",
     "exception": false,
     "start_time": "2022-07-01T02:18:25.449772",
     "status": "completed"
    },
    "tags": []
   },
   "outputs": [],
   "source": [
    "# Splitting the dataset into train and test set\n",
    "\n",
    "x_train, x_test, y_train, y_test = train_test_split(dataset[\"text\"], dataset[\"category\"], test_size = 0.25, random_state = 12)"
   ]
  },
  {
   "cell_type": "code",
   "execution_count": 13,
   "id": "008a992f",
   "metadata": {
    "_cell_guid": "a79ca46b-4f20-487e-b362-3f6b06c91ee8",
    "_uuid": "b493f3ce-1779-4976-bce0-f845b7a3cb88",
    "collapsed": false,
    "execution": {
     "iopub.execute_input": "2022-07-01T02:18:25.563351Z",
     "iopub.status.busy": "2022-07-01T02:18:25.548052Z",
     "iopub.status.idle": "2022-07-01T02:18:40.183646Z",
     "shell.execute_reply": "2022-07-01T02:18:40.183138Z",
     "shell.execute_reply.started": "2022-07-01T02:10:35.635881Z"
    },
    "jupyter": {
     "outputs_hidden": false
    },
    "papermill": {
     "duration": 14.67466,
     "end_time": "2022-07-01T02:18:40.183784",
     "exception": false,
     "start_time": "2022-07-01T02:18:25.509124",
     "status": "completed"
    },
    "tags": []
   },
   "outputs": [],
   "source": [
    "#Tokenize the words into vectors because we can only give numerical data as input to the model\n",
    "\n",
    "max_vocab = 25000\n",
    "tokenizer = Tokenizer(num_words = max_vocab)\n",
    "tokenizer.fit_on_texts(x_train)\n",
    "\n",
    "x_train = tokenizer.texts_to_sequences(x_train)\n",
    "x_test = tokenizer.texts_to_sequences(x_test)"
   ]
  },
  {
   "cell_type": "code",
   "execution_count": 14,
   "id": "b806857d",
   "metadata": {
    "execution": {
     "iopub.execute_input": "2022-07-01T02:18:40.236204Z",
     "iopub.status.busy": "2022-07-01T02:18:40.235183Z",
     "iopub.status.idle": "2022-07-01T02:18:42.017856Z",
     "shell.execute_reply": "2022-07-01T02:18:42.018274Z",
     "shell.execute_reply.started": "2022-07-01T02:10:50.079970Z"
    },
    "papermill": {
     "duration": 1.813926,
     "end_time": "2022-07-01T02:18:42.018455",
     "exception": false,
     "start_time": "2022-07-01T02:18:40.204529",
     "status": "completed"
    },
    "tags": []
   },
   "outputs": [],
   "source": [
    "#Padding is applied so that we get the same length of input for each article\n",
    "\n",
    "x_train = pad_sequences(x_train, padding = \"post\", maxlen = 256)\n",
    "x_test = pad_sequences(x_test, padding = \"post\", maxlen = 256)"
   ]
  },
  {
   "cell_type": "markdown",
   "id": "3c4f21c7",
   "metadata": {
    "papermill": {
     "duration": 0.02041,
     "end_time": "2022-07-01T02:18:42.059363",
     "exception": false,
     "start_time": "2022-07-01T02:18:42.038953",
     "status": "completed"
    },
    "tags": []
   },
   "source": [
    "# BUILDING THE RNN"
   ]
  },
  {
   "cell_type": "code",
   "execution_count": 15,
   "id": "e16124b8",
   "metadata": {
    "execution": {
     "iopub.execute_input": "2022-07-01T02:18:42.108541Z",
     "iopub.status.busy": "2022-07-01T02:18:42.105668Z",
     "iopub.status.idle": "2022-07-01T02:18:45.685117Z",
     "shell.execute_reply": "2022-07-01T02:18:45.685761Z",
     "shell.execute_reply.started": "2022-07-01T02:10:51.869963Z"
    },
    "papermill": {
     "duration": 3.60594,
     "end_time": "2022-07-01T02:18:45.685922",
     "exception": false,
     "start_time": "2022-07-01T02:18:42.079982",
     "status": "completed"
    },
    "tags": []
   },
   "outputs": [
    {
     "name": "stderr",
     "output_type": "stream",
     "text": [
      "2022-07-01 02:18:42.203741: I tensorflow/stream_executor/cuda/cuda_gpu_executor.cc:937] successful NUMA node read from SysFS had negative value (-1), but there must be at least one NUMA node, so returning NUMA node zero\n",
      "2022-07-01 02:18:42.318781: I tensorflow/stream_executor/cuda/cuda_gpu_executor.cc:937] successful NUMA node read from SysFS had negative value (-1), but there must be at least one NUMA node, so returning NUMA node zero\n",
      "2022-07-01 02:18:42.319557: I tensorflow/stream_executor/cuda/cuda_gpu_executor.cc:937] successful NUMA node read from SysFS had negative value (-1), but there must be at least one NUMA node, so returning NUMA node zero\n",
      "2022-07-01 02:18:42.320758: I tensorflow/core/platform/cpu_feature_guard.cc:142] This TensorFlow binary is optimized with oneAPI Deep Neural Network Library (oneDNN) to use the following CPU instructions in performance-critical operations:  AVX2 AVX512F FMA\n",
      "To enable them in other operations, rebuild TensorFlow with the appropriate compiler flags.\n",
      "2022-07-01 02:18:42.321870: I tensorflow/stream_executor/cuda/cuda_gpu_executor.cc:937] successful NUMA node read from SysFS had negative value (-1), but there must be at least one NUMA node, so returning NUMA node zero\n",
      "2022-07-01 02:18:42.322573: I tensorflow/stream_executor/cuda/cuda_gpu_executor.cc:937] successful NUMA node read from SysFS had negative value (-1), but there must be at least one NUMA node, so returning NUMA node zero\n",
      "2022-07-01 02:18:42.323203: I tensorflow/stream_executor/cuda/cuda_gpu_executor.cc:937] successful NUMA node read from SysFS had negative value (-1), but there must be at least one NUMA node, so returning NUMA node zero\n",
      "2022-07-01 02:18:44.506043: I tensorflow/stream_executor/cuda/cuda_gpu_executor.cc:937] successful NUMA node read from SysFS had negative value (-1), but there must be at least one NUMA node, so returning NUMA node zero\n",
      "2022-07-01 02:18:44.506893: I tensorflow/stream_executor/cuda/cuda_gpu_executor.cc:937] successful NUMA node read from SysFS had negative value (-1), but there must be at least one NUMA node, so returning NUMA node zero\n",
      "2022-07-01 02:18:44.507628: I tensorflow/stream_executor/cuda/cuda_gpu_executor.cc:937] successful NUMA node read from SysFS had negative value (-1), but there must be at least one NUMA node, so returning NUMA node zero\n",
      "2022-07-01 02:18:44.508308: I tensorflow/core/common_runtime/gpu/gpu_device.cc:1510] Created device /job:localhost/replica:0/task:0/device:GPU:0 with 15403 MB memory:  -> device: 0, name: Tesla P100-PCIE-16GB, pci bus id: 0000:00:04.0, compute capability: 6.0\n"
     ]
    },
    {
     "name": "stdout",
     "output_type": "stream",
     "text": [
      "Model: \"sequential\"\n",
      "_________________________________________________________________\n",
      "Layer (type)                 Output Shape              Param #   \n",
      "=================================================================\n",
      "embedding (Embedding)        (None, None, 128)         3200000   \n",
      "_________________________________________________________________\n",
      "bidirectional (Bidirectional (None, None, 128)         98816     \n",
      "_________________________________________________________________\n",
      "bidirectional_1 (Bidirection (None, 32)                18560     \n",
      "_________________________________________________________________\n",
      "dense (Dense)                (None, 64)                2112      \n",
      "_________________________________________________________________\n",
      "dropout (Dropout)            (None, 64)                0         \n",
      "_________________________________________________________________\n",
      "dense_1 (Dense)              (None, 1)                 65        \n",
      "=================================================================\n",
      "Total params: 3,319,553\n",
      "Trainable params: 3,319,553\n",
      "Non-trainable params: 0\n",
      "_________________________________________________________________\n"
     ]
    }
   ],
   "source": [
    "# Creating the model\n",
    "\n",
    "model = tf.keras.Sequential([\n",
    "    tf.keras.layers.Embedding(max_vocab, 128),\n",
    "    tf.keras.layers.Bidirectional(tf.keras.layers.LSTM(64, return_sequences = True)),\n",
    "    tf.keras.layers.Bidirectional(tf.keras.layers.LSTM(16)),\n",
    "    tf.keras.layers.Dense(64, activation = \"relu\"),\n",
    "    tf.keras.layers.Dropout(0.4),\n",
    "    tf.keras.layers.Dense(1)\n",
    "])\n",
    "\n",
    "model.summary()"
   ]
  },
  {
   "cell_type": "code",
   "execution_count": 16,
   "id": "82cfd61c",
   "metadata": {
    "execution": {
     "iopub.execute_input": "2022-07-01T02:18:45.736558Z",
     "iopub.status.busy": "2022-07-01T02:18:45.735814Z",
     "iopub.status.idle": "2022-07-01T02:22:12.957164Z",
     "shell.execute_reply": "2022-07-01T02:22:12.957641Z",
     "shell.execute_reply.started": "2022-07-01T02:10:55.375421Z"
    },
    "papermill": {
     "duration": 207.250136,
     "end_time": "2022-07-01T02:22:12.957801",
     "exception": false,
     "start_time": "2022-07-01T02:18:45.707665",
     "status": "completed"
    },
    "tags": []
   },
   "outputs": [
    {
     "name": "stdout",
     "output_type": "stream",
     "text": [
      "Epoch 1/4\n"
     ]
    },
    {
     "name": "stderr",
     "output_type": "stream",
     "text": [
      "2022-07-01 02:18:45.805033: I tensorflow/compiler/mlir/mlir_graph_optimization_pass.cc:185] None of the MLIR Optimization Passes are enabled (registered 2)\n",
      "2022-07-01 02:18:51.425164: I tensorflow/stream_executor/cuda/cuda_dnn.cc:369] Loaded cuDNN version 8005\n"
     ]
    },
    {
     "name": "stdout",
     "output_type": "stream",
     "text": [
      "842/842 [==============================] - 45s 46ms/step - loss: 0.2294 - accuracy: 0.8766 - val_loss: 0.0551 - val_accuracy: 0.9832\n",
      "Epoch 2/4\n",
      "842/842 [==============================] - 37s 44ms/step - loss: 0.0215 - accuracy: 0.9951 - val_loss: 0.0219 - val_accuracy: 0.9952\n",
      "Epoch 3/4\n",
      "842/842 [==============================] - 37s 44ms/step - loss: 0.0115 - accuracy: 0.9979 - val_loss: 0.0185 - val_accuracy: 0.9955\n",
      "Epoch 4/4\n",
      "842/842 [==============================] - 37s 44ms/step - loss: 0.0036 - accuracy: 0.9994 - val_loss: 0.0242 - val_accuracy: 0.9952\n"
     ]
    },
    {
     "data": {
      "text/plain": [
       "<keras.callbacks.History at 0x7fa44f2d1510>"
      ]
     },
     "execution_count": 16,
     "metadata": {},
     "output_type": "execute_result"
    }
   ],
   "source": [
    "# Training the model\n",
    "\n",
    "model.compile(loss = tf.keras.losses.BinaryCrossentropy(from_logits = True),\n",
    "             optimizer = tf.keras.optimizers.Adam(1e-4),\n",
    "             metrics = [\"accuracy\"])\n",
    "\n",
    "model.fit(x_train, y_train, epochs = 4, validation_split = 0.2, batch_size = 32, shuffle = True)"
   ]
  },
  {
   "cell_type": "code",
   "execution_count": 17,
   "id": "c483e170",
   "metadata": {
    "execution": {
     "iopub.execute_input": "2022-07-01T02:22:13.896740Z",
     "iopub.status.busy": "2022-07-01T02:22:13.895614Z",
     "iopub.status.idle": "2022-07-01T02:22:20.238928Z",
     "shell.execute_reply": "2022-07-01T02:22:20.238379Z",
     "shell.execute_reply.started": "2022-07-01T02:13:28.382561Z"
    },
    "papermill": {
     "duration": 6.809038,
     "end_time": "2022-07-01T02:22:20.239061",
     "exception": false,
     "start_time": "2022-07-01T02:22:13.430023",
     "status": "completed"
    },
    "tags": []
   },
   "outputs": [
    {
     "name": "stdout",
     "output_type": "stream",
     "text": [
      "351/351 [==============================] - 6s 18ms/step - loss: 0.0186 - accuracy: 0.9964\n"
     ]
    },
    {
     "data": {
      "text/plain": [
       "[0.018602222204208374, 0.9964365363121033]"
      ]
     },
     "execution_count": 17,
     "metadata": {},
     "output_type": "execute_result"
    }
   ],
   "source": [
    "# Evaluating the test set\n",
    "\n",
    "model.evaluate(x_test, y_test)"
   ]
  },
  {
   "cell_type": "code",
   "execution_count": 18,
   "id": "230504b8",
   "metadata": {
    "execution": {
     "iopub.execute_input": "2022-07-01T02:22:21.227342Z",
     "iopub.status.busy": "2022-07-01T02:22:21.226366Z",
     "iopub.status.idle": "2022-07-01T02:22:32.476202Z",
     "shell.execute_reply": "2022-07-01T02:22:32.475346Z",
     "shell.execute_reply.started": "2022-07-01T02:13:34.549292Z"
    },
    "papermill": {
     "duration": 11.74736,
     "end_time": "2022-07-01T02:22:32.476339",
     "exception": false,
     "start_time": "2022-07-01T02:22:20.728979",
     "status": "completed"
    },
    "tags": []
   },
   "outputs": [],
   "source": [
    "y_pred = model.predict(x_test)\n",
    "\n",
    "binary_prediction = []\n",
    "\n",
    "for i in y_pred:\n",
    "    if i>=0.5:\n",
    "        binary_prediction.append(1)\n",
    "    else:\n",
    "        binary_prediction.append(0)"
   ]
  },
  {
   "cell_type": "markdown",
   "id": "1d7b0eea",
   "metadata": {
    "papermill": {
     "duration": 0.567132,
     "end_time": "2022-07-01T02:22:33.530234",
     "exception": false,
     "start_time": "2022-07-01T02:22:32.963102",
     "status": "completed"
    },
    "tags": []
   },
   "source": [
    "# LOOKING AT MODEL ACCURACY"
   ]
  },
  {
   "cell_type": "code",
   "execution_count": 19,
   "id": "05ab958f",
   "metadata": {
    "execution": {
     "iopub.execute_input": "2022-07-01T02:22:34.688954Z",
     "iopub.status.busy": "2022-07-01T02:22:34.688171Z",
     "iopub.status.idle": "2022-07-01T02:22:34.744929Z",
     "shell.execute_reply": "2022-07-01T02:22:34.743912Z",
     "shell.execute_reply.started": "2022-07-01T02:13:41.369778Z"
    },
    "papermill": {
     "duration": 0.551472,
     "end_time": "2022-07-01T02:22:34.745104",
     "exception": false,
     "start_time": "2022-07-01T02:22:34.193632",
     "status": "completed"
    },
    "tags": []
   },
   "outputs": [
    {
     "name": "stdout",
     "output_type": "stream",
     "text": [
      "Accuracy on testing set: 0.9964365256124722\n",
      "Precision on testing set: 0.9975828729281768\n",
      "Recall on testing set: 0.9955203308063405\n"
     ]
    }
   ],
   "source": [
    "print('Accuracy on testing set:', accuracy_score(binary_prediction, y_test))\n",
    "print('Precision on testing set:', precision_score(binary_prediction, y_test))\n",
    "print('Recall on testing set:', recall_score(binary_prediction, y_test))"
   ]
  },
  {
   "cell_type": "code",
   "execution_count": 20,
   "id": "3c37941c",
   "metadata": {
    "execution": {
     "iopub.execute_input": "2022-07-01T02:22:36.235630Z",
     "iopub.status.busy": "2022-07-01T02:22:36.234884Z",
     "iopub.status.idle": "2022-07-01T02:22:36.469018Z",
     "shell.execute_reply": "2022-07-01T02:22:36.469437Z",
     "shell.execute_reply.started": "2022-07-01T02:13:41.425995Z"
    },
    "papermill": {
     "duration": 0.927407,
     "end_time": "2022-07-01T02:22:36.469581",
     "exception": false,
     "start_time": "2022-07-01T02:22:35.542174",
     "status": "completed"
    },
    "tags": []
   },
   "outputs": [
    {
     "data": {
      "text/plain": [
       "[Text(0, 0.5, '0'), Text(0, 1.5, '1')]"
      ]
     },
     "execution_count": 20,
     "metadata": {},
     "output_type": "execute_result"
    },
    {
     "data": {
      "image/png": "[encoded data removed]",
      "text/plain": [
       "<Figure size 360x360 with 2 Axes>"
      ]
     },
     "metadata": {
      "needs_background": "light"
     },
     "output_type": "display_data"
    }
   ],
   "source": [
    "# Creating a heatmap to visualize the confusion matrix\n",
    "\n",
    "matrix = confusion_matrix(binary_prediction, y_test, normalize='all')\n",
    "plt.figure(figsize=(5, 5))\n",
    "ax= plt.subplot()\n",
    "sns.heatmap(matrix, annot=True, ax = ax)\n",
    "\n",
    "# labels, title and ticks\n",
    "ax.set_xlabel('Predicted Labels', size=20)\n",
    "ax.set_ylabel('True Labels', size=20)\n",
    "ax.set_title('Confusion Matrix', size=20) \n",
    "ax.xaxis.set_ticklabels([0,1], size=15)\n",
    "ax.yaxis.set_ticklabels([0,1], size=15)\n"
   ]
  },
  {
   "cell_type": "code",
   "execution_count": null,
   "id": "9b936ffa",
   "metadata": {
    "papermill": {
     "duration": 0.536975,
     "end_time": "2022-07-01T02:22:37.495202",
     "exception": false,
     "start_time": "2022-07-01T02:22:36.958227",
     "status": "completed"
    },
    "tags": []
   },
   "outputs": [],
   "source": []
  }
 ],
 "metadata": {
  "kernelspec": {
   "display_name": "Python 3",
   "language": "python",
   "name": "python3"
  },
  "language_info": {
   "codemirror_mode": {
    "name": "ipython",
    "version": 3
   },
   "file_extension": ".py",
   "mimetype": "text/x-python",
   "name": "python",
   "nbconvert_exporter": "python",
   "pygments_lexer": "ipython3",
   "version": "3.7.12"
  },
  "papermill": {
   "default_parameters": {},
   "duration": 435.672819,
   "end_time": "2022-07-01T02:22:40.715109",
   "environment_variables": {},
   "exception": null,
   "input_path": "__notebook__.ipynb",
   "output_path": "__notebook__.ipynb",
   "parameters": {},
   "start_time": "2022-07-01T02:15:25.042290",
   "version": "2.3.3"
  }
 },
 "nbformat": 4,
 "nbformat_minor": 5
}
